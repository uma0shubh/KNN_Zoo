{
 "cells": [
  {
   "cell_type": "markdown",
   "id": "ba0fbc94",
   "metadata": {},
   "source": [
    "# Implement a KNN model to classify the animals in to categorie"
   ]
  },
  {
   "cell_type": "code",
   "execution_count": 1,
   "id": "a864f1e2",
   "metadata": {
    "id": "cOTTP2JyvhyQ"
   },
   "outputs": [],
   "source": [
    "# KNN Classification\n",
    "from pandas import read_csv\n",
    "import numpy as np\n",
    "from sklearn.model_selection import KFold\n",
    "from sklearn.model_selection import cross_val_score\n",
    "from sklearn.neighbors import KNeighborsClassifier\n",
    "import pandas as pd\n",
    "import matplotlib.pyplot as plt"
   ]
  },
  {
   "cell_type": "code",
   "execution_count": 2,
   "id": "e4d7e59c",
   "metadata": {
    "id": "U40ycRzivtiC"
   },
   "outputs": [],
   "source": [
    "Zoo=pd.read_csv('D:/Course/ExcelR Classroom Study/Data Science Assignment/13. KNN/Zoo.csv')\n",
    "zoo=Zoo.iloc[:,1:]"
   ]
  },
  {
   "cell_type": "code",
   "execution_count": 3,
   "id": "9014032c",
   "metadata": {
    "id": "FDgv5lYDv_Lb"
   },
   "outputs": [],
   "source": [
    "#to split train and test data\n",
    "from sklearn.model_selection import train_test_split\n",
    "train,test=train_test_split(zoo,test_size=0.3,random_state=0)"
   ]
  },
  {
   "cell_type": "code",
   "execution_count": 4,
   "id": "45ca7d79",
   "metadata": {
    "id": "aOrhsPNIwRsv"
   },
   "outputs": [],
   "source": [
    "from sklearn.neighbors import KNeighborsClassifier as KNC"
   ]
  },
  {
   "cell_type": "code",
   "execution_count": 5,
   "id": "e17a2669",
   "metadata": {
    "id": "-3EeV-oAwCW7"
   },
   "outputs": [],
   "source": [
    "#to find best k value\n",
    "acc=[]\n",
    "for i in range(3,50,2):\n",
    "    neigh=KNC(n_neighbors=i)\n",
    "    neigh.fit(train.iloc[:,0:16],train.iloc[:,16])\n",
    "    train_acc=np.mean(neigh.predict(train.iloc[:,0:16])==train.iloc[:,16])\n",
    "    test_acc=np.mean(neigh.predict(test.iloc[:,0:16])==test.iloc[:,16])\n",
    "    acc.append([train_acc,test_acc])"
   ]
  },
  {
   "cell_type": "code",
   "execution_count": 6,
   "id": "6285fa49",
   "metadata": {
    "colab": {
     "base_uri": "https://localhost:8080/",
     "height": 286
    },
    "id": "9EyOTUuEwMGJ",
    "outputId": "082c9b17-06c0-4861-a1f5-6cbeb42b3c6c"
   },
   "outputs": [
    {
     "data": {
      "text/plain": [
       "<matplotlib.legend.Legend at 0x2532c20a8e0>"
      ]
     },
     "execution_count": 6,
     "metadata": {},
     "output_type": "execute_result"
    },
    {
     "data": {
      "image/png": "[encoded data removed]",
      "text/plain": [
       "<Figure size 432x288 with 1 Axes>"
      ]
     },
     "metadata": {
      "needs_background": "light"
     },
     "output_type": "display_data"
    }
   ],
   "source": [
    "plt.plot(np.arange(3,50,2),[i[0] for i in acc],'bo-')\n",
    "plt.plot(np.arange(3,50,2),[i[1] for i in acc],'ro-')\n",
    "plt.legend(['train','test'])"
   ]
  },
  {
   "cell_type": "code",
   "execution_count": 7,
   "id": "35e8865d",
   "metadata": {
    "colab": {
     "base_uri": "https://localhost:8080/"
    },
    "id": "diB41YqJwpcA",
    "outputId": "d67593b8-123f-4ab0-832a-223318f47dc3"
   },
   "outputs": [
    {
     "data": {
      "text/plain": [
       "0.9354838709677419"
      ]
     },
     "execution_count": 7,
     "metadata": {},
     "output_type": "execute_result"
    }
   ],
   "source": [
    "#from plots at k=5 we get best model\n",
    "#model building at k=5\n",
    "neigh=KNC(n_neighbors=5)\n",
    "neigh.fit(train.iloc[:,0:16],train.iloc[:,16])\n",
    "train_acc=np.mean(neigh.predict(train.iloc[:,0:16])==train.iloc[:,16])\n",
    "test_acc=np.mean(neigh.predict(test.iloc[:,0:16])==test.iloc[:,16])\n",
    "train_acc\n",
    "test_acc"
   ]
  },
  {
   "cell_type": "code",
   "execution_count": null,
   "id": "fc59bdd6",
   "metadata": {},
   "outputs": [],
   "source": []
  },
  {
   "cell_type": "code",
   "execution_count": null,
   "id": "341ffbd1",
   "metadata": {},
   "outputs": [],
   "source": []
  }
 ],
 "metadata": {
  "kernelspec": {
   "display_name": "Python 3 (ipykernel)",
   "language": "python",
   "name": "python3"
  },
  "language_info": {
   "codemirror_mode": {
    "name": "ipython",
    "version": 3
   },
   "file_extension": ".py",
   "mimetype": "text/x-python",
   "name": "python",
   "nbconvert_exporter": "python",
   "pygments_lexer": "ipython3",
   "version": "3.9.7"
  }
 },
 "nbformat": 4,
 "nbformat_minor": 5
}
